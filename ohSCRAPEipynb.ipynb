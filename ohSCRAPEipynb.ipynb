{
 "cells": [
  {
   "cell_type": "code",
   "execution_count": 63,
   "id": "7d28f941",
   "metadata": {},
   "outputs": [
    {
     "data": {
      "text/html": [
       "<div>\n",
       "<style scoped>\n",
       "    .dataframe tbody tr th:only-of-type {\n",
       "        vertical-align: middle;\n",
       "    }\n",
       "\n",
       "    .dataframe tbody tr th {\n",
       "        vertical-align: top;\n",
       "    }\n",
       "\n",
       "    .dataframe thead th {\n",
       "        text-align: right;\n",
       "    }\n",
       "</style>\n",
       "<table border=\"1\" class=\"dataframe\">\n",
       "  <thead>\n",
       "    <tr style=\"text-align: right;\">\n",
       "      <th></th>\n",
       "      <th>Language\\n</th>\n",
       "      <th>Original purpose\\n</th>\n",
       "      <th>Imperative\\n</th>\n",
       "      <th>Object-oriented\\n</th>\n",
       "      <th>Functional\\n</th>\n",
       "      <th>Procedural\\n</th>\n",
       "      <th>Generic\\n</th>\n",
       "      <th>Reflective\\n</th>\n",
       "      <th>Event-driven\\n</th>\n",
       "      <th>Other paradigms\\n</th>\n",
       "      <th>Standardized?\\n</th>\n",
       "    </tr>\n",
       "  </thead>\n",
       "  <tbody>\n",
       "    <tr>\n",
       "      <th>0</th>\n",
       "      <td>1C:Enterprise programming language\\n</td>\n",
       "      <td>Application, RAD, business, general, web, mobi...</td>\n",
       "      <td>Yes\\n</td>\n",
       "      <td>No\\n</td>\n",
       "      <td>Yes\\n</td>\n",
       "      <td>Yes\\n</td>\n",
       "      <td>Yes\\n</td>\n",
       "      <td>Yes\\n</td>\n",
       "      <td>Yes\\n</td>\n",
       "      <td>Object-based, Prototype-based programming\\n</td>\n",
       "      <td>No\\n</td>\n",
       "    </tr>\n",
       "    <tr>\n",
       "      <th>1</th>\n",
       "      <td>ActionScript 3.0\\n</td>\n",
       "      <td>Application, client-side, web\\n</td>\n",
       "      <td>Yes\\n</td>\n",
       "      <td>Yes\\n</td>\n",
       "      <td>Yes\\n</td>\n",
       "      <td>No\\n</td>\n",
       "      <td>No\\n</td>\n",
       "      <td>No\\n</td>\n",
       "      <td>Yes\\n</td>\n",
       "      <td>\\n</td>\n",
       "      <td>Yes1996, ECMA\\n</td>\n",
       "    </tr>\n",
       "    <tr>\n",
       "      <th>2</th>\n",
       "      <td>Ada\\n</td>\n",
       "      <td>Application, embedded, realtime, system\\n</td>\n",
       "      <td>Yes\\n</td>\n",
       "      <td>Yes[2]\\n</td>\n",
       "      <td>No\\n</td>\n",
       "      <td>Yes[3]\\n</td>\n",
       "      <td>Yes[4]\\n</td>\n",
       "      <td>No\\n</td>\n",
       "      <td>No\\n</td>\n",
       "      <td>Concurrent,[5] distributed,[6]\\n</td>\n",
       "      <td>Yes1983, 2005, 2012, ANSI, ISO, GOST 27831-88[...</td>\n",
       "    </tr>\n",
       "    <tr>\n",
       "      <th>3</th>\n",
       "      <td>Aldor\\n</td>\n",
       "      <td>Highly domain-specific, symbolic computing\\n</td>\n",
       "      <td>Yes\\n</td>\n",
       "      <td>Yes\\n</td>\n",
       "      <td>Yes\\n</td>\n",
       "      <td>No\\n</td>\n",
       "      <td>No\\n</td>\n",
       "      <td>No\\n</td>\n",
       "      <td>No\\n</td>\n",
       "      <td>\\n</td>\n",
       "      <td>No\\n</td>\n",
       "    </tr>\n",
       "    <tr>\n",
       "      <th>4</th>\n",
       "      <td>ALGOL 58\\n</td>\n",
       "      <td>Application\\n</td>\n",
       "      <td>Yes\\n</td>\n",
       "      <td>No\\n</td>\n",
       "      <td>No\\n</td>\n",
       "      <td>No\\n</td>\n",
       "      <td>No\\n</td>\n",
       "      <td>No\\n</td>\n",
       "      <td>No\\n</td>\n",
       "      <td>\\n</td>\n",
       "      <td>No\\n</td>\n",
       "    </tr>\n",
       "    <tr>\n",
       "      <th>...</th>\n",
       "      <td>...</td>\n",
       "      <td>...</td>\n",
       "      <td>...</td>\n",
       "      <td>...</td>\n",
       "      <td>...</td>\n",
       "      <td>...</td>\n",
       "      <td>...</td>\n",
       "      <td>...</td>\n",
       "      <td>...</td>\n",
       "      <td>...</td>\n",
       "      <td>...</td>\n",
       "    </tr>\n",
       "    <tr>\n",
       "      <th>132</th>\n",
       "      <td>Xojo\\n</td>\n",
       "      <td>Application, RAD, general, web\\n</td>\n",
       "      <td>Yes\\n</td>\n",
       "      <td>Yes\\n</td>\n",
       "      <td>No\\n</td>\n",
       "      <td>Yes\\n</td>\n",
       "      <td>No\\n</td>\n",
       "      <td>Yes\\n</td>\n",
       "      <td>Yes\\n</td>\n",
       "      <td>\\n</td>\n",
       "      <td>No\\n</td>\n",
       "    </tr>\n",
       "    <tr>\n",
       "      <th>133</th>\n",
       "      <td>XPath/XQuery\\n</td>\n",
       "      <td>Databases, data processing, scripting\\n</td>\n",
       "      <td>No\\n</td>\n",
       "      <td>No\\n</td>\n",
       "      <td>Yes\\n</td>\n",
       "      <td>No\\n</td>\n",
       "      <td>No\\n</td>\n",
       "      <td>No\\n</td>\n",
       "      <td>No\\n</td>\n",
       "      <td>Tree-oriented\\n</td>\n",
       "      <td>Yes1999 W3C XPath 1, 2010 W3C XQuery 1, 2014 W...</td>\n",
       "    </tr>\n",
       "    <tr>\n",
       "      <th>134</th>\n",
       "      <td>Zeek\\n</td>\n",
       "      <td>Domain-specific, application\\n</td>\n",
       "      <td>Yes\\n</td>\n",
       "      <td>No\\n</td>\n",
       "      <td>No\\n</td>\n",
       "      <td>No\\n</td>\n",
       "      <td>No\\n</td>\n",
       "      <td>No\\n</td>\n",
       "      <td>Yes\\n</td>\n",
       "      <td>\\n</td>\n",
       "      <td>No\\n</td>\n",
       "    </tr>\n",
       "    <tr>\n",
       "      <th>135</th>\n",
       "      <td>Zig\\n</td>\n",
       "      <td>Application, general, system\\n</td>\n",
       "      <td>Yes\\n</td>\n",
       "      <td>No\\n</td>\n",
       "      <td>Yes\\n</td>\n",
       "      <td>Yes\\n</td>\n",
       "      <td>Yes\\n</td>\n",
       "      <td>Yes\\n</td>\n",
       "      <td>Yes\\n</td>\n",
       "      <td>Concurrent\\n</td>\n",
       "      <td>No\\n</td>\n",
       "    </tr>\n",
       "    <tr>\n",
       "      <th>136</th>\n",
       "      <td>Zsh\\n</td>\n",
       "      <td>Shell, scripting\\n</td>\n",
       "      <td>Yes\\n</td>\n",
       "      <td>No\\n</td>\n",
       "      <td>No\\n</td>\n",
       "      <td>Yes\\n</td>\n",
       "      <td>No\\n</td>\n",
       "      <td>No\\n</td>\n",
       "      <td>No\\n</td>\n",
       "      <td>Loadable modules\\n</td>\n",
       "      <td>No\\n</td>\n",
       "    </tr>\n",
       "  </tbody>\n",
       "</table>\n",
       "<p>137 rows × 11 columns</p>\n",
       "</div>"
      ],
      "text/plain": [
       "                               Language\\n  \\\n",
       "0    1C:Enterprise programming language\\n   \n",
       "1                      ActionScript 3.0\\n   \n",
       "2                                   Ada\\n   \n",
       "3                                 Aldor\\n   \n",
       "4                              ALGOL 58\\n   \n",
       "..                                    ...   \n",
       "132                                Xojo\\n   \n",
       "133                        XPath/XQuery\\n   \n",
       "134                                Zeek\\n   \n",
       "135                                 Zig\\n   \n",
       "136                                 Zsh\\n   \n",
       "\n",
       "                                    Original purpose\\n Imperative\\n  \\\n",
       "0    Application, RAD, business, general, web, mobi...        Yes\\n   \n",
       "1                      Application, client-side, web\\n        Yes\\n   \n",
       "2            Application, embedded, realtime, system\\n        Yes\\n   \n",
       "3         Highly domain-specific, symbolic computing\\n        Yes\\n   \n",
       "4                                        Application\\n        Yes\\n   \n",
       "..                                                 ...          ...   \n",
       "132                   Application, RAD, general, web\\n        Yes\\n   \n",
       "133            Databases, data processing, scripting\\n         No\\n   \n",
       "134                     Domain-specific, application\\n        Yes\\n   \n",
       "135                     Application, general, system\\n        Yes\\n   \n",
       "136                                 Shell, scripting\\n        Yes\\n   \n",
       "\n",
       "    Object-oriented\\n Functional\\n Procedural\\n Generic\\n Reflective\\n  \\\n",
       "0                No\\n        Yes\\n        Yes\\n     Yes\\n        Yes\\n   \n",
       "1               Yes\\n        Yes\\n         No\\n      No\\n         No\\n   \n",
       "2            Yes[2]\\n         No\\n     Yes[3]\\n  Yes[4]\\n         No\\n   \n",
       "3               Yes\\n        Yes\\n         No\\n      No\\n         No\\n   \n",
       "4                No\\n         No\\n         No\\n      No\\n         No\\n   \n",
       "..                ...          ...          ...       ...          ...   \n",
       "132             Yes\\n         No\\n        Yes\\n      No\\n        Yes\\n   \n",
       "133              No\\n        Yes\\n         No\\n      No\\n         No\\n   \n",
       "134              No\\n         No\\n         No\\n      No\\n         No\\n   \n",
       "135              No\\n        Yes\\n        Yes\\n     Yes\\n        Yes\\n   \n",
       "136              No\\n         No\\n        Yes\\n      No\\n         No\\n   \n",
       "\n",
       "    Event-driven\\n                            Other paradigms\\n  \\\n",
       "0            Yes\\n  Object-based, Prototype-based programming\\n   \n",
       "1            Yes\\n                                           \\n   \n",
       "2             No\\n             Concurrent,[5] distributed,[6]\\n   \n",
       "3             No\\n                                           \\n   \n",
       "4             No\\n                                           \\n   \n",
       "..             ...                                          ...   \n",
       "132          Yes\\n                                           \\n   \n",
       "133           No\\n                              Tree-oriented\\n   \n",
       "134          Yes\\n                                           \\n   \n",
       "135          Yes\\n                                 Concurrent\\n   \n",
       "136           No\\n                           Loadable modules\\n   \n",
       "\n",
       "                                       Standardized?\\n  \n",
       "0                                                 No\\n  \n",
       "1                                      Yes1996, ECMA\\n  \n",
       "2    Yes1983, 2005, 2012, ANSI, ISO, GOST 27831-88[...  \n",
       "3                                                 No\\n  \n",
       "4                                                 No\\n  \n",
       "..                                                 ...  \n",
       "132                                               No\\n  \n",
       "133  Yes1999 W3C XPath 1, 2010 W3C XQuery 1, 2014 W...  \n",
       "134                                               No\\n  \n",
       "135                                               No\\n  \n",
       "136                                               No\\n  \n",
       "\n",
       "[137 rows x 11 columns]"
      ]
     },
     "execution_count": 63,
     "metadata": {},
     "output_type": "execute_result"
    }
   ],
   "source": [
    "import csv\n",
    "from urllib.request import urlopen\n",
    "from bs4 import BeautifulSoup\n",
    "\n",
    "html = urlopen(\"https://en.wikipedia.org/wiki/Comparison_of_programming_languages\")\n",
    "soup = BeautifulSoup(html, \"html.parser\")\n",
    "table = soup.findAll(\"table\", {\"class\":\"wikitable\"})[0]\n",
    "rows = table.findAll(\"tr\")\n",
    "\n",
    "with open(\"language.csv\", \"wt+\", newline=\"\") as f:\n",
    "    writer = csv.writer(f)\n",
    "    for i in rows:\n",
    "        row = []\n",
    "        for cell in i.findAll([\"td\", \"th\"]):\n",
    "            row.append(cell.get_text())\n",
    "        writer.writerow(row)\n",
    "    \n",
    "import numpy as np\n",
    "import matplotlib.pyplot as plt\n",
    "import seaborn as sns  \n",
    "import pandas as pd\n",
    "a = pd.read_csv(\"language.csv\")\n",
    "a\n"
   ]
  },
  {
   "cell_type": "code",
   "execution_count": 89,
   "id": "679c21a4",
   "metadata": {},
   "outputs": [
    {
     "data": {
      "text/plain": [
       "<AxesSubplot:>"
      ]
     },
     "execution_count": 89,
     "metadata": {},
     "output_type": "execute_result"
    },
    {
     "data": {
      "image/png": "[encoded data removed]",
      "text/plain": [
       "<Figure size 432x288 with 1 Axes>"
      ]
     },
     "metadata": {
      "needs_background": "light"
     },
     "output_type": "display_data"
    }
   ],
   "source": [
    "functional_yes=a[a[\"Functional\\n\"]=='Yes']\n",
    "functional_no=a[a[\"Functional\\n\"]=='No']\n",
    "m=['red','orange']\n",
    "a[\"Imperative\\n\"].value_counts().plot(kind='bar',color=m)\n"
   ]
  },
  {
   "cell_type": "code",
   "execution_count": 85,
   "id": "15bf3277",
   "metadata": {},
   "outputs": [
    {
     "data": {
      "text/plain": [
       "<AxesSubplot:>"
      ]
     },
     "execution_count": 85,
     "metadata": {},
     "output_type": "execute_result"
    },
    {
     "data": {
      "image/png": "[encoded data removed]",
      "text/plain": [
       "<Figure size 432x288 with 1 Axes>"
      ]
     },
     "metadata": {
      "needs_background": "light"
     },
     "output_type": "display_data"
    }
   ],
   "source": [
    "p=['blue','black','red','green','orange','pink','yellow']\n",
    "a[\"Functional\\n\"].value_counts().plot(kind='bar',color=p)"
   ]
  },
  {
   "cell_type": "code",
   "execution_count": 87,
   "id": "d1530cae",
   "metadata": {},
   "outputs": [
    {
     "data": {
      "text/plain": [
       "<AxesSubplot:>"
      ]
     },
     "execution_count": 87,
     "metadata": {},
     "output_type": "execute_result"
    },
    {
     "data": {
      "image/png": "[encoded data removed]",
      "text/plain": [
       "<Figure size 432x288 with 1 Axes>"
      ]
     },
     "metadata": {
      "needs_background": "light"
     },
     "output_type": "display_data"
    }
   ],
   "source": [
    "q=['pink','black','red','orange','pink','yellow','blue','green']\n",
    "a[\"Object-oriented\\n\"].value_counts().plot(kind='bar',color=q)"
   ]
  },
  {
   "cell_type": "code",
   "execution_count": 82,
   "id": "4fbd521d",
   "metadata": {},
   "outputs": [
    {
     "data": {
      "text/plain": [
       "<AxesSubplot:>"
      ]
     },
     "execution_count": 82,
     "metadata": {},
     "output_type": "execute_result"
    },
    {
     "data": {
      "image/png": "[encoded data removed]",
      "text/plain": [
       "<Figure size 432x288 with 1 Axes>"
      ]
     },
     "metadata": {
      "needs_background": "light"
     },
     "output_type": "display_data"
    }
   ],
   "source": [
    "c=['red','orange','blue']\n",
    "a[\"Procedural\\n\"].value_counts().plot(kind='bar',color=c)"
   ]
  },
  {
   "cell_type": "code",
   "execution_count": null,
   "id": "ab77b69b",
   "metadata": {},
   "outputs": [],
   "source": []
  },
  {
   "cell_type": "code",
   "execution_count": null,
   "id": "fd2615ec",
   "metadata": {},
   "outputs": [],
   "source": []
  }
 ],
 "metadata": {
  "kernelspec": {
   "display_name": "Python 3 (ipykernel)",
   "language": "python",
   "name": "python3"
  },
  "language_info": {
   "codemirror_mode": {
    "name": "ipython",
    "version": 3
   },
   "file_extension": ".py",
   "mimetype": "text/x-python",
   "name": "python",
   "nbconvert_exporter": "python",
   "pygments_lexer": "ipython3",
   "version": "3.9.12"
  }
 },
 "nbformat": 4,
 "nbformat_minor": 5
}
